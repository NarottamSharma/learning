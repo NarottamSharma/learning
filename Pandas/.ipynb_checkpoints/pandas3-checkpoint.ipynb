{
 "cells": [
  {
   "cell_type": "markdown",
   "id": "975c5ad7-2251-4ca1-9221-48e2d621a996",
   "metadata": {},
   "source": [
    "### Important Function\n",
    "- value_counts()\n",
    "- sort_values()\n",
    "- rank\n",
    "- sort index\n",
    "- set index\n",
    "- rename index\n",
    "- reset index\n",
    "- ubique and nunique\n",
    "- isnull / notnull / hasnans\n",
    "- dropna\n",
    "- fillna\n",
    "- drop_duplicates\n",
    "- drop\n",
    "- apply\n",
    "- isin\n",
    "- corr\n",
    "- nlargest -> nsmallest\n",
    "- insert\n",
    "- copy"
   ]
  },
  {
   "cell_type": "code",
   "execution_count": null,
   "id": "20391f5e-3a4f-444b-a812-001d83a9ae88",
   "metadata": {},
   "outputs": [],
   "source": [
    "import pandas as pd\n",
    "import numpy as pd"
   ]
  }
 ],
 "metadata": {
  "kernelspec": {
   "display_name": "Python 3 (ipykernel)",
   "language": "python",
   "name": "python3"
  },
  "language_info": {
   "codemirror_mode": {
    "name": "ipython",
    "version": 3
   },
   "file_extension": ".py",
   "mimetype": "text/x-python",
   "name": "python",
   "nbconvert_exporter": "python",
   "pygments_lexer": "ipython3",
   "version": "3.11.7"
  }
 },
 "nbformat": 4,
 "nbformat_minor": 5
}
