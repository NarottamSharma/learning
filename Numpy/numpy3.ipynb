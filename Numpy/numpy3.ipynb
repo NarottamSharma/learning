{
 "cells": [
  {
   "cell_type": "code",
   "execution_count": 1,
   "id": "32717ce4-c6e6-4eeb-a92e-12a573e8862b",
   "metadata": {},
   "outputs": [],
   "source": [
    "import numpy as np"
   ]
  },
  {
   "cell_type": "code",
   "execution_count": 3,
   "id": "5dc165aa-9a84-426f-a683-532968244cdb",
   "metadata": {},
   "outputs": [],
   "source": [
    "a = np.random.randint(1,100,15)\n",
    "b = np.random.randint(1,100,24).reshape(6,4)"
   ]
  },
  {
   "cell_type": "markdown",
   "id": "499ed29f-ac32-45d6-9039-08fa389d3acd",
   "metadata": {},
   "source": [
    "# np.sort"
   ]
  },
  {
   "cell_type": "code",
   "execution_count": 6,
   "id": "0f3fd309-586d-4292-96fd-02818cfa1608",
   "metadata": {},
   "outputs": [
    {
     "data": {
      "text/plain": [
       "array([10, 16, 16, 22, 39, 51, 54, 56, 64, 68, 75, 75, 82, 99, 99])"
      ]
     },
     "execution_count": 6,
     "metadata": {},
     "output_type": "execute_result"
    }
   ],
   "source": [
    "np.sort(a,kind='mergesort') # mergesort is fast"
   ]
  },
  {
   "cell_type": "code",
   "execution_count": 8,
   "id": "a21fbd3d-9914-436d-bd19-b1b814b4432b",
   "metadata": {},
   "outputs": [
    {
     "data": {
      "text/plain": [
       "array([[ 9, 91, 68, 59],\n",
       "       [20, 81, 12, 22],\n",
       "       [29, 47, 25, 72],\n",
       "       [57, 61, 15, 84],\n",
       "       [96, 74, 38, 97],\n",
       "       [99, 60, 93, 16]])"
      ]
     },
     "execution_count": 8,
     "metadata": {},
     "output_type": "execute_result"
    }
   ],
   "source": [
    "b"
   ]
  },
  {
   "cell_type": "code",
   "execution_count": 9,
   "id": "2086cd61-65b0-4f99-b2d3-d9195772fe9b",
   "metadata": {},
   "outputs": [
    {
     "data": {
      "text/plain": [
       "array([[ 9, 59, 68, 91],\n",
       "       [12, 20, 22, 81],\n",
       "       [25, 29, 47, 72],\n",
       "       [15, 57, 61, 84],\n",
       "       [38, 74, 96, 97],\n",
       "       [16, 60, 93, 99]])"
      ]
     },
     "execution_count": 9,
     "metadata": {},
     "output_type": "execute_result"
    }
   ],
   "source": [
    "np.sort(b) # row wise"
   ]
  },
  {
   "cell_type": "code",
   "execution_count": 11,
   "id": "4e949d6f-df16-433c-a22d-4fbc6d0d3b25",
   "metadata": {},
   "outputs": [
    {
     "data": {
      "text/plain": [
       "array([[16, 60, 93, 99],\n",
       "       [38, 74, 96, 97],\n",
       "       [15, 57, 61, 84],\n",
       "       [25, 29, 47, 72],\n",
       "       [12, 20, 22, 81],\n",
       "       [ 9, 59, 68, 91]])"
      ]
     },
     "execution_count": 11,
     "metadata": {},
     "output_type": "execute_result"
    }
   ],
   "source": [
    "np.sort(b)[::-1]"
   ]
  },
  {
   "cell_type": "code",
   "execution_count": 10,
   "id": "4f42a27e-43bd-4b62-b3b7-0333ea60bd3b",
   "metadata": {},
   "outputs": [
    {
     "data": {
      "text/plain": [
       "array([[ 9, 47, 12, 16],\n",
       "       [20, 60, 15, 22],\n",
       "       [29, 61, 25, 59],\n",
       "       [57, 74, 38, 72],\n",
       "       [96, 81, 68, 84],\n",
       "       [99, 91, 93, 97]])"
      ]
     },
     "execution_count": 10,
     "metadata": {},
     "output_type": "execute_result"
    }
   ],
   "source": [
    "np.sort(b,axis=0)"
   ]
  },
  {
   "cell_type": "code",
   "execution_count": 12,
   "id": "3288b672-380d-48e3-826f-ec62e1993e97",
   "metadata": {},
   "outputs": [
    {
     "data": {
      "text/plain": [
       "array([[99, 91, 93, 97],\n",
       "       [96, 81, 68, 84],\n",
       "       [57, 74, 38, 72],\n",
       "       [29, 61, 25, 59],\n",
       "       [20, 60, 15, 22],\n",
       "       [ 9, 47, 12, 16]])"
      ]
     },
     "execution_count": 12,
     "metadata": {},
     "output_type": "execute_result"
    }
   ],
   "source": [
    "np.sort(b,axis=0)[::-1]"
   ]
  },
  {
   "cell_type": "markdown",
   "id": "8056b53b-5fce-432e-b100-2becd1361282",
   "metadata": {},
   "source": [
    "# np.append()"
   ]
  },
  {
   "cell_type": "code",
   "execution_count": 13,
   "id": "2164ff70-b6e7-43fb-9fb7-c9cabd510bdc",
   "metadata": {},
   "outputs": [
    {
     "data": {
      "text/plain": [
       "array([16, 56, 99, 82, 51, 10, 75, 16, 39, 22, 99, 64, 54, 75, 68])"
      ]
     },
     "execution_count": 13,
     "metadata": {},
     "output_type": "execute_result"
    }
   ],
   "source": [
    "a"
   ]
  },
  {
   "cell_type": "code",
   "execution_count": 14,
   "id": "7cd6836d-6b4b-4a21-bceb-043b39991715",
   "metadata": {},
   "outputs": [
    {
     "data": {
      "text/plain": [
       "array([ 16,  56,  99,  82,  51,  10,  75,  16,  39,  22,  99,  64,  54,\n",
       "        75,  68, 200])"
      ]
     },
     "execution_count": 14,
     "metadata": {},
     "output_type": "execute_result"
    }
   ],
   "source": [
    "np.append(a,200)"
   ]
  },
  {
   "cell_type": "code",
   "execution_count": 16,
   "id": "f550a982-94e2-44fc-9c59-e677890dc06d",
   "metadata": {},
   "outputs": [
    {
     "data": {
      "text/plain": [
       "array([[ 9, 91, 68, 59],\n",
       "       [20, 81, 12, 22],\n",
       "       [29, 47, 25, 72],\n",
       "       [57, 61, 15, 84],\n",
       "       [96, 74, 38, 97],\n",
       "       [99, 60, 93, 16]])"
      ]
     },
     "execution_count": 16,
     "metadata": {},
     "output_type": "execute_result"
    }
   ],
   "source": [
    "b"
   ]
  },
  {
   "cell_type": "code",
   "execution_count": 19,
   "id": "0f7b9339-dedf-4135-92cc-bb6a4d3a20c8",
   "metadata": {},
   "outputs": [
    {
     "data": {
      "text/plain": [
       "array([[ 9., 91., 68., 59.,  1.],\n",
       "       [20., 81., 12., 22.,  1.],\n",
       "       [29., 47., 25., 72.,  1.],\n",
       "       [57., 61., 15., 84.,  1.],\n",
       "       [96., 74., 38., 97.,  1.],\n",
       "       [99., 60., 93., 16.,  1.]])"
      ]
     },
     "execution_count": 19,
     "metadata": {},
     "output_type": "execute_result"
    }
   ],
   "source": [
    "np.append(b,np.ones((b.shape[0],1)),axis=1)"
   ]
  },
  {
   "cell_type": "markdown",
   "id": "24a3748b-fcea-4290-886d-272cdb3571fc",
   "metadata": {},
   "source": [
    "# np.concatenate"
   ]
  },
  {
   "cell_type": "code",
   "execution_count": 20,
   "id": "c3e43daf-2751-47e9-a49d-f4670b2a1160",
   "metadata": {},
   "outputs": [
    {
     "name": "stdout",
     "output_type": "stream",
     "text": [
      "[[0 1 2]\n",
      " [3 4 5]]\n",
      "[[ 6  7  8]\n",
      " [ 9 10 11]]\n"
     ]
    }
   ],
   "source": [
    "c = np.arange(6).reshape(2,3)\n",
    "d = np.arange(6,12).reshape(2,3)\n",
    "print(c)\n",
    "print(d)"
   ]
  },
  {
   "cell_type": "code",
   "execution_count": 22,
   "id": "20e1e21c-a9dd-4502-9fe0-5b339588e197",
   "metadata": {},
   "outputs": [
    {
     "data": {
      "text/plain": [
       "array([[ 0,  1,  2],\n",
       "       [ 3,  4,  5],\n",
       "       [ 6,  7,  8],\n",
       "       [ 9, 10, 11]])"
      ]
     },
     "execution_count": 22,
     "metadata": {},
     "output_type": "execute_result"
    }
   ],
   "source": [
    "np.concatenate((c,d))"
   ]
  },
  {
   "cell_type": "code",
   "execution_count": 23,
   "id": "20cc476a-4147-418d-b124-1344aa2e1c96",
   "metadata": {},
   "outputs": [
    {
     "data": {
      "text/plain": [
       "array([[ 0,  1,  2,  6,  7,  8],\n",
       "       [ 3,  4,  5,  9, 10, 11]])"
      ]
     },
     "execution_count": 23,
     "metadata": {},
     "output_type": "execute_result"
    }
   ],
   "source": [
    "np.concatenate((c,d),axis=1)"
   ]
  },
  {
   "cell_type": "markdown",
   "id": "d7b2439a-5534-46e6-80b1-9f211c18c41b",
   "metadata": {},
   "source": [
    "# np.unique()"
   ]
  },
  {
   "cell_type": "code",
   "execution_count": 24,
   "id": "0fb4c766-aeda-42e5-bcf3-5bf1748b6729",
   "metadata": {},
   "outputs": [
    {
     "data": {
      "text/plain": [
       "array([ 1,  2,  3,  5,  6,  8, 34, 43])"
      ]
     },
     "execution_count": 24,
     "metadata": {},
     "output_type": "execute_result"
    }
   ],
   "source": [
    "e = np.array([1,2,3,2,43,6,8,34,5,6,3,2])\n",
    "np.unique(e)"
   ]
  },
  {
   "cell_type": "markdown",
   "id": "6fc38072-494d-47c9-a29c-66502fd5f65b",
   "metadata": {},
   "source": [
    "# np.expand_dims()"
   ]
  },
  {
   "cell_type": "code",
   "execution_count": 25,
   "id": "0aebc032-7f13-4ea9-aed1-2cab2da517bb",
   "metadata": {},
   "outputs": [
    {
     "data": {
      "text/plain": [
       "array([16, 56, 99, 82, 51, 10, 75, 16, 39, 22, 99, 64, 54, 75, 68])"
      ]
     },
     "execution_count": 25,
     "metadata": {},
     "output_type": "execute_result"
    }
   ],
   "source": [
    "a"
   ]
  },
  {
   "cell_type": "code",
   "execution_count": 33,
   "id": "9ca1e12a-7c85-4cca-a5fc-2f4f404c0bfb",
   "metadata": {},
   "outputs": [
    {
     "data": {
      "text/plain": [
       "array([[16, 56, 99, 82, 51, 10, 75, 16, 39, 22, 99, 64, 54, 75, 68]])"
      ]
     },
     "execution_count": 33,
     "metadata": {},
     "output_type": "execute_result"
    }
   ],
   "source": [
    "np.expand_dims(a,axis=0)"
   ]
  },
  {
   "cell_type": "code",
   "execution_count": 31,
   "id": "7e2cf3d0-41a0-4451-b555-1f591829f22e",
   "metadata": {},
   "outputs": [
    {
     "data": {
      "text/plain": [
       "(1, 15)"
      ]
     },
     "execution_count": 31,
     "metadata": {},
     "output_type": "execute_result"
    }
   ],
   "source": [
    "np.expand_dims(a,axis=0).shape"
   ]
  },
  {
   "cell_type": "code",
   "execution_count": 34,
   "id": "7198544c-959f-4773-9fa9-2b571260b734",
   "metadata": {},
   "outputs": [
    {
     "data": {
      "text/plain": [
       "array([[16],\n",
       "       [56],\n",
       "       [99],\n",
       "       [82],\n",
       "       [51],\n",
       "       [10],\n",
       "       [75],\n",
       "       [16],\n",
       "       [39],\n",
       "       [22],\n",
       "       [99],\n",
       "       [64],\n",
       "       [54],\n",
       "       [75],\n",
       "       [68]])"
      ]
     },
     "execution_count": 34,
     "metadata": {},
     "output_type": "execute_result"
    }
   ],
   "source": [
    "np.expand_dims(a,axis=1)"
   ]
  },
  {
   "cell_type": "code",
   "execution_count": 32,
   "id": "5f22358e-0fec-4b34-966d-4e5af258ab25",
   "metadata": {},
   "outputs": [
    {
     "data": {
      "text/plain": [
       "(15, 1)"
      ]
     },
     "execution_count": 32,
     "metadata": {},
     "output_type": "execute_result"
    }
   ],
   "source": [
    "np.expand_dims(a,axis=1).shape"
   ]
  },
  {
   "cell_type": "markdown",
   "id": "a6cee7ef-8bd3-435d-b808-028bcd0a5903",
   "metadata": {},
   "source": [
    "# np.where"
   ]
  },
  {
   "cell_type": "code",
   "execution_count": 35,
   "id": "e000226c-db3b-4661-8091-ff251453f80e",
   "metadata": {},
   "outputs": [
    {
     "data": {
      "text/plain": [
       "array([16, 56, 99, 82, 51, 10, 75, 16, 39, 22, 99, 64, 54, 75, 68])"
      ]
     },
     "execution_count": 35,
     "metadata": {},
     "output_type": "execute_result"
    }
   ],
   "source": [
    "a"
   ]
  },
  {
   "cell_type": "code",
   "execution_count": 40,
   "id": "5f0fea63-8b77-4681-b9cc-f3b6b23b3a39",
   "metadata": {},
   "outputs": [
    {
     "data": {
      "text/plain": [
       "(array([ 1,  2,  3,  4,  6, 10, 11, 12, 13, 14], dtype=int64),)"
      ]
     },
     "execution_count": 40,
     "metadata": {},
     "output_type": "execute_result"
    }
   ],
   "source": [
    "np.where(a>50)"
   ]
  },
  {
   "cell_type": "code",
   "execution_count": null,
   "id": "d08d5250-569c-45f4-bc2f-b58ad149facd",
   "metadata": {},
   "outputs": [],
   "source": [
    "# replace all value > 50 with 0\n",
    "# np.where(condition , true, false)"
   ]
  },
  {
   "cell_type": "code",
   "execution_count": 41,
   "id": "8b8bebb3-e2ca-4032-b902-1afe6366d290",
   "metadata": {},
   "outputs": [
    {
     "data": {
      "text/plain": [
       "array([16,  0,  0,  0,  0, 10,  0, 16, 39, 22,  0,  0,  0,  0,  0])"
      ]
     },
     "execution_count": 41,
     "metadata": {},
     "output_type": "execute_result"
    }
   ],
   "source": [
    "np.where(a>50,0,a)"
   ]
  },
  {
   "cell_type": "code",
   "execution_count": 43,
   "id": "9a351c09-fbc7-4ac4-9e2d-aa745058f4e5",
   "metadata": {},
   "outputs": [
    {
     "data": {
      "text/plain": [
       "array(['even', 'even', 'odd', 'even', 'odd', 'even', 'odd', 'even', 'odd',\n",
       "       'even', 'odd', 'even', 'even', 'odd', 'even'], dtype='<U4')"
      ]
     },
     "execution_count": 43,
     "metadata": {},
     "output_type": "execute_result"
    }
   ],
   "source": [
    "np.where(a%2==0,'even','odd')"
   ]
  },
  {
   "cell_type": "markdown",
   "id": "21af4bcf-16b5-4eea-b0b3-0298592c129c",
   "metadata": {},
   "source": [
    "# np.argmax"
   ]
  },
  {
   "cell_type": "code",
   "execution_count": 44,
   "id": "e2f66ec2-0006-4919-91d4-6b30d212f4ec",
   "metadata": {},
   "outputs": [
    {
     "data": {
      "text/plain": [
       "array([16, 56, 99, 82, 51, 10, 75, 16, 39, 22, 99, 64, 54, 75, 68])"
      ]
     },
     "execution_count": 44,
     "metadata": {},
     "output_type": "execute_result"
    }
   ],
   "source": [
    "a"
   ]
  },
  {
   "cell_type": "code",
   "execution_count": 45,
   "id": "244308eb-5a5b-4946-9abd-619ab2af5d37",
   "metadata": {},
   "outputs": [
    {
     "data": {
      "text/plain": [
       "2"
      ]
     },
     "execution_count": 45,
     "metadata": {},
     "output_type": "execute_result"
    }
   ],
   "source": [
    "np.argmax(a) # return index"
   ]
  },
  {
   "cell_type": "code",
   "execution_count": 46,
   "id": "61268cc4-bc61-40f1-a63d-aefe8e3abd0b",
   "metadata": {},
   "outputs": [
    {
     "data": {
      "text/plain": [
       "array([[ 9, 91, 68, 59],\n",
       "       [20, 81, 12, 22],\n",
       "       [29, 47, 25, 72],\n",
       "       [57, 61, 15, 84],\n",
       "       [96, 74, 38, 97],\n",
       "       [99, 60, 93, 16]])"
      ]
     },
     "execution_count": 46,
     "metadata": {},
     "output_type": "execute_result"
    }
   ],
   "source": [
    "b"
   ]
  },
  {
   "cell_type": "code",
   "execution_count": 47,
   "id": "f8915d4c-db3a-4e96-aa1d-33340a5e879b",
   "metadata": {},
   "outputs": [
    {
     "data": {
      "text/plain": [
       "array([1, 1, 3, 3, 3, 0], dtype=int64)"
      ]
     },
     "execution_count": 47,
     "metadata": {},
     "output_type": "execute_result"
    }
   ],
   "source": [
    "np.argmax(b,axis=1)"
   ]
  },
  {
   "cell_type": "markdown",
   "id": "0c439134-1b54-4433-ae0e-c200a3e79a79",
   "metadata": {},
   "source": [
    "# np.argmin()"
   ]
  },
  {
   "cell_type": "code",
   "execution_count": 49,
   "id": "eebca7f3-eb2a-4fc4-8aea-8a8d2b80d63c",
   "metadata": {},
   "outputs": [
    {
     "data": {
      "text/plain": [
       "5"
      ]
     },
     "execution_count": 49,
     "metadata": {},
     "output_type": "execute_result"
    }
   ],
   "source": [
    "np.argmin(a)"
   ]
  },
  {
   "cell_type": "code",
   "execution_count": 53,
   "id": "55c8ccf1-77f0-4cde-bfe8-87eab954b801",
   "metadata": {},
   "outputs": [
    {
     "data": {
      "text/plain": [
       "array([0, 2, 2, 2, 2, 3], dtype=int64)"
      ]
     },
     "execution_count": 53,
     "metadata": {},
     "output_type": "execute_result"
    }
   ],
   "source": [
    "np.argmin(b,axis=1)"
   ]
  },
  {
   "cell_type": "markdown",
   "id": "49f31a53-f5b6-48df-9fc5-dcc13d7b8aa6",
   "metadata": {},
   "source": [
    "# np.cumsum()"
   ]
  },
  {
   "cell_type": "code",
   "execution_count": 55,
   "id": "46fe1545-f1e8-41a9-83ef-54f5b05343cf",
   "metadata": {},
   "outputs": [
    {
     "data": {
      "text/plain": [
       "array([[ 9, 91, 68, 59],\n",
       "       [20, 81, 12, 22],\n",
       "       [29, 47, 25, 72],\n",
       "       [57, 61, 15, 84],\n",
       "       [96, 74, 38, 97],\n",
       "       [99, 60, 93, 16]])"
      ]
     },
     "execution_count": 55,
     "metadata": {},
     "output_type": "execute_result"
    }
   ],
   "source": [
    "b"
   ]
  },
  {
   "cell_type": "code",
   "execution_count": 56,
   "id": "3e407792-dac3-4304-aa1a-10a7da3c672c",
   "metadata": {},
   "outputs": [
    {
     "data": {
      "text/plain": [
       "array([   9,  100,  168,  227,  247,  328,  340,  362,  391,  438,  463,\n",
       "        535,  592,  653,  668,  752,  848,  922,  960, 1057, 1156, 1216,\n",
       "       1309, 1325])"
      ]
     },
     "execution_count": 56,
     "metadata": {},
     "output_type": "execute_result"
    }
   ],
   "source": [
    "np.cumsum(b)"
   ]
  },
  {
   "cell_type": "code",
   "execution_count": 54,
   "id": "2964f3e1-6c27-4644-bce1-88b6c5eaaab1",
   "metadata": {},
   "outputs": [
    {
     "data": {
      "text/plain": [
       "array([[  9, 100, 168, 227],\n",
       "       [ 20, 101, 113, 135],\n",
       "       [ 29,  76, 101, 173],\n",
       "       [ 57, 118, 133, 217],\n",
       "       [ 96, 170, 208, 305],\n",
       "       [ 99, 159, 252, 268]])"
      ]
     },
     "execution_count": 54,
     "metadata": {},
     "output_type": "execute_result"
    }
   ],
   "source": [
    "np.cumsum(b,axis=1)"
   ]
  },
  {
   "cell_type": "markdown",
   "id": "f1a031a3-219c-4a91-90e2-5f83f98d62fc",
   "metadata": {},
   "source": [
    "# np.cumprod"
   ]
  },
  {
   "cell_type": "code",
   "execution_count": 57,
   "id": "9688096e-1187-427e-8088-313ae6c361a3",
   "metadata": {},
   "outputs": [
    {
     "data": {
      "text/plain": [
       "array([         16,         896,       88704,     7273728,   370960128,\n",
       "        -585366016,  -952778240,  1935417344, -1828134912, -1564262400,\n",
       "        -243154944,  1617952768,  1470103552, -1411383296, -1484783616])"
      ]
     },
     "execution_count": 57,
     "metadata": {},
     "output_type": "execute_result"
    }
   ],
   "source": [
    "np.cumprod(a)"
   ]
  },
  {
   "cell_type": "code",
   "execution_count": 58,
   "id": "69db44a8-67e3-4dce-b171-8873484c789c",
   "metadata": {},
   "outputs": [
    {
     "data": {
      "text/plain": [
       "array([16, 56, 99, 82, 51, 10, 75, 16, 39, 22, 99, 64, 54, 75, 68])"
      ]
     },
     "execution_count": 58,
     "metadata": {},
     "output_type": "execute_result"
    }
   ],
   "source": [
    "a"
   ]
  },
  {
   "cell_type": "markdown",
   "id": "71f85239-529f-4a07-b6e0-556eaf938355",
   "metadata": {},
   "source": [
    "# np.percentile"
   ]
  },
  {
   "cell_type": "code",
   "execution_count": 59,
   "id": "2322feaa-570c-402b-b38b-782699f1f41f",
   "metadata": {},
   "outputs": [
    {
     "data": {
      "text/plain": [
       "99.0"
      ]
     },
     "execution_count": 59,
     "metadata": {},
     "output_type": "execute_result"
    }
   ],
   "source": [
    "np.percentile(a,100)"
   ]
  },
  {
   "cell_type": "code",
   "execution_count": 60,
   "id": "e6ce294c-4eb1-499e-881f-3a3f94dc0829",
   "metadata": {},
   "outputs": [
    {
     "data": {
      "text/plain": [
       "10.0"
      ]
     },
     "execution_count": 60,
     "metadata": {},
     "output_type": "execute_result"
    }
   ],
   "source": [
    "np.percentile(a,0)"
   ]
  },
  {
   "cell_type": "code",
   "execution_count": 61,
   "id": "4ca8ad1a-6e42-4237-9103-71260a828ef5",
   "metadata": {},
   "outputs": [
    {
     "data": {
      "text/plain": [
       "56.0"
      ]
     },
     "execution_count": 61,
     "metadata": {},
     "output_type": "execute_result"
    }
   ],
   "source": [
    "np.percentile(a,50)"
   ]
  },
  {
   "cell_type": "markdown",
   "id": "02ab71a4-7fc1-4ab4-8235-1a2d4c779427",
   "metadata": {},
   "source": [
    "# np.histogram"
   ]
  },
  {
   "cell_type": "code",
   "execution_count": 64,
   "id": "f84c1700-1ad8-497e-af5d-6e2f0e87af73",
   "metadata": {},
   "outputs": [
    {
     "data": {
      "text/plain": [
       "array([16, 56, 99, 82, 51, 10, 75, 16, 39, 22, 99, 64, 54, 75, 68])"
      ]
     },
     "execution_count": 64,
     "metadata": {},
     "output_type": "execute_result"
    }
   ],
   "source": [
    "a"
   ]
  },
  {
   "cell_type": "code",
   "execution_count": 63,
   "id": "f27a15e5-ea82-4761-b305-2f2bac55fe4f",
   "metadata": {},
   "outputs": [
    {
     "data": {
      "text/plain": [
       "(array([3, 1, 0, 1, 2, 1, 2, 2, 1, 2], dtype=int64),\n",
       " array([10. , 18.9, 27.8, 36.7, 45.6, 54.5, 63.4, 72.3, 81.2, 90.1, 99. ]))"
      ]
     },
     "execution_count": 63,
     "metadata": {},
     "output_type": "execute_result"
    }
   ],
   "source": [
    "np.histogram(a, bins = 10)"
   ]
  },
  {
   "cell_type": "markdown",
   "id": "6ac98399-7b1b-4ee8-83ee-0a9a32ee6464",
   "metadata": {},
   "source": [
    "# np.corrcoef"
   ]
  },
  {
   "cell_type": "code",
   "execution_count": 66,
   "id": "72c31ef8-6262-4871-85ab-18c18f029a09",
   "metadata": {},
   "outputs": [
    {
     "data": {
      "text/plain": [
       "array([[1.        , 0.15309311],\n",
       "       [0.15309311, 1.        ]])"
      ]
     },
     "execution_count": 66,
     "metadata": {},
     "output_type": "execute_result"
    }
   ],
   "source": [
    "salary = np.array([10000,20000,30000,40000,50000,60000,70000])\n",
    "exp = np.array([1,2,3,4,5,1,2])\n",
    "np.corrcoef(salary,exp)"
   ]
  },
  {
   "cell_type": "markdown",
   "id": "cb6f2f20-29e6-4055-9604-3b0a2f788f7d",
   "metadata": {},
   "source": [
    "# np.isin"
   ]
  },
  {
   "cell_type": "code",
   "execution_count": 67,
   "id": "32bb5792-36eb-48b8-af15-c9012a83fe14",
   "metadata": {},
   "outputs": [
    {
     "data": {
      "text/plain": [
       "array([16, 56, 99, 82, 51, 10, 75, 16, 39, 22, 99, 64, 54, 75, 68])"
      ]
     },
     "execution_count": 67,
     "metadata": {},
     "output_type": "execute_result"
    }
   ],
   "source": [
    "a"
   ]
  },
  {
   "cell_type": "code",
   "execution_count": 68,
   "id": "38375eb7-6741-4eb0-b81d-2a58cf92ef49",
   "metadata": {},
   "outputs": [
    {
     "data": {
      "text/plain": [
       "array([False, False, False, False, False, False, False, False, False,\n",
       "       False, False, False, False, False, False])"
      ]
     },
     "execution_count": 68,
     "metadata": {},
     "output_type": "execute_result"
    }
   ],
   "source": [
    "np.isin(a,5)"
   ]
  },
  {
   "cell_type": "code",
   "execution_count": 70,
   "id": "5ff475fd-79d1-4a1c-8489-b13e89ee2fcb",
   "metadata": {},
   "outputs": [
    {
     "data": {
      "text/plain": [
       "array([16, 16])"
      ]
     },
     "execution_count": 70,
     "metadata": {},
     "output_type": "execute_result"
    }
   ],
   "source": [
    "a[np.isin(a,16)]"
   ]
  },
  {
   "cell_type": "code",
   "execution_count": 71,
   "id": "bb40495e-b594-4870-9a0a-e24aacbeb8e5",
   "metadata": {},
   "outputs": [],
   "source": [
    "items=[16,56,33,22]"
   ]
  },
  {
   "cell_type": "code",
   "execution_count": 72,
   "id": "0855fe43-9137-4440-a1c7-406dd51a8eb9",
   "metadata": {},
   "outputs": [
    {
     "data": {
      "text/plain": [
       "array([ True,  True, False, False, False, False, False,  True, False,\n",
       "        True, False, False, False, False, False])"
      ]
     },
     "execution_count": 72,
     "metadata": {},
     "output_type": "execute_result"
    }
   ],
   "source": [
    "np.isin(a,items)"
   ]
  },
  {
   "cell_type": "code",
   "execution_count": 73,
   "id": "786da75f-ca1f-4b5a-9d01-64454b409c97",
   "metadata": {},
   "outputs": [
    {
     "data": {
      "text/plain": [
       "array([16, 56, 16, 22])"
      ]
     },
     "execution_count": 73,
     "metadata": {},
     "output_type": "execute_result"
    }
   ],
   "source": [
    "a[np.isin(a,items)]"
   ]
  },
  {
   "cell_type": "markdown",
   "id": "d1892f11-15d3-40e4-9ba7-6166e03821ec",
   "metadata": {},
   "source": [
    "# np.flip"
   ]
  },
  {
   "cell_type": "code",
   "execution_count": 74,
   "id": "44b618cd-2590-489d-8428-f170cb8c3898",
   "metadata": {},
   "outputs": [
    {
     "data": {
      "text/plain": [
       "array([16, 56, 99, 82, 51, 10, 75, 16, 39, 22, 99, 64, 54, 75, 68])"
      ]
     },
     "execution_count": 74,
     "metadata": {},
     "output_type": "execute_result"
    }
   ],
   "source": [
    "a"
   ]
  },
  {
   "cell_type": "code",
   "execution_count": 75,
   "id": "6c8b70ce-5930-4ef0-8037-a2ff03feb10b",
   "metadata": {},
   "outputs": [
    {
     "data": {
      "text/plain": [
       "array([68, 75, 54, 64, 99, 22, 39, 16, 75, 10, 51, 82, 99, 56, 16])"
      ]
     },
     "execution_count": 75,
     "metadata": {},
     "output_type": "execute_result"
    }
   ],
   "source": [
    "np.flip(a)"
   ]
  },
  {
   "cell_type": "code",
   "execution_count": 76,
   "id": "0ee0bf45-0095-48e1-b539-c740f705ad8c",
   "metadata": {},
   "outputs": [
    {
     "data": {
      "text/plain": [
       "array([[ 9, 91, 68, 59],\n",
       "       [20, 81, 12, 22],\n",
       "       [29, 47, 25, 72],\n",
       "       [57, 61, 15, 84],\n",
       "       [96, 74, 38, 97],\n",
       "       [99, 60, 93, 16]])"
      ]
     },
     "execution_count": 76,
     "metadata": {},
     "output_type": "execute_result"
    }
   ],
   "source": [
    "b"
   ]
  },
  {
   "cell_type": "code",
   "execution_count": 77,
   "id": "c7a3bbe7-803d-4899-a248-66c2680954c4",
   "metadata": {},
   "outputs": [
    {
     "data": {
      "text/plain": [
       "array([[16, 93, 60, 99],\n",
       "       [97, 38, 74, 96],\n",
       "       [84, 15, 61, 57],\n",
       "       [72, 25, 47, 29],\n",
       "       [22, 12, 81, 20],\n",
       "       [59, 68, 91,  9]])"
      ]
     },
     "execution_count": 77,
     "metadata": {},
     "output_type": "execute_result"
    }
   ],
   "source": [
    "np.flip(b)"
   ]
  },
  {
   "cell_type": "code",
   "execution_count": 78,
   "id": "2bc7f0fe-fa40-4dbb-aadb-a400769689ff",
   "metadata": {},
   "outputs": [
    {
     "data": {
      "text/plain": [
       "array([[59, 68, 91,  9],\n",
       "       [22, 12, 81, 20],\n",
       "       [72, 25, 47, 29],\n",
       "       [84, 15, 61, 57],\n",
       "       [97, 38, 74, 96],\n",
       "       [16, 93, 60, 99]])"
      ]
     },
     "execution_count": 78,
     "metadata": {},
     "output_type": "execute_result"
    }
   ],
   "source": [
    "np.flip(b,axis=1)"
   ]
  },
  {
   "cell_type": "code",
   "execution_count": 79,
   "id": "a2bef231-26bd-4ff9-ad8a-c0f6e3298238",
   "metadata": {},
   "outputs": [
    {
     "data": {
      "text/plain": [
       "array([[99, 60, 93, 16],\n",
       "       [96, 74, 38, 97],\n",
       "       [57, 61, 15, 84],\n",
       "       [29, 47, 25, 72],\n",
       "       [20, 81, 12, 22],\n",
       "       [ 9, 91, 68, 59]])"
      ]
     },
     "execution_count": 79,
     "metadata": {},
     "output_type": "execute_result"
    }
   ],
   "source": [
    "np.flip(b,axis=0)"
   ]
  },
  {
   "cell_type": "markdown",
   "id": "77392ee9-4d6b-42f6-a3f4-9bc761bd4971",
   "metadata": {},
   "source": [
    "# np.put()"
   ]
  },
  {
   "cell_type": "code",
   "execution_count": 80,
   "id": "ca756ede-0b37-474a-bc26-3861e47a0de9",
   "metadata": {},
   "outputs": [
    {
     "data": {
      "text/plain": [
       "array([16, 56, 99, 82, 51, 10, 75, 16, 39, 22, 99, 64, 54, 75, 68])"
      ]
     },
     "execution_count": 80,
     "metadata": {},
     "output_type": "execute_result"
    }
   ],
   "source": [
    "a"
   ]
  },
  {
   "cell_type": "code",
   "execution_count": 81,
   "id": "92b1f9c6-5472-4aeb-8b5a-453b6c222e59",
   "metadata": {},
   "outputs": [],
   "source": [
    "np.put(a,[0,1],[1,10])"
   ]
  },
  {
   "cell_type": "code",
   "execution_count": 82,
   "id": "503a24b9-6633-4919-83ab-99d627a3ee83",
   "metadata": {},
   "outputs": [
    {
     "data": {
      "text/plain": [
       "array([ 1, 10, 99, 82, 51, 10, 75, 16, 39, 22, 99, 64, 54, 75, 68])"
      ]
     },
     "execution_count": 82,
     "metadata": {},
     "output_type": "execute_result"
    }
   ],
   "source": [
    "a"
   ]
  },
  {
   "cell_type": "markdown",
   "id": "c1487396-7f4e-4a55-bba7-4e8f838845f0",
   "metadata": {},
   "source": [
    "# np.delete()"
   ]
  },
  {
   "cell_type": "code",
   "execution_count": 83,
   "id": "9ba8e607-a5f8-4f25-8754-de51da99ece0",
   "metadata": {},
   "outputs": [
    {
     "data": {
      "text/plain": [
       "array([ 1, 10, 99, 82, 51, 10, 75, 16, 39, 22, 99, 64, 54, 75, 68])"
      ]
     },
     "execution_count": 83,
     "metadata": {},
     "output_type": "execute_result"
    }
   ],
   "source": [
    "a"
   ]
  },
  {
   "cell_type": "code",
   "execution_count": 84,
   "id": "71b8523e-7d5d-4f62-b11a-3378943ae99d",
   "metadata": {},
   "outputs": [
    {
     "data": {
      "text/plain": [
       "array([10, 99, 82, 51, 10, 75, 16, 39, 22, 99, 64, 54, 75, 68])"
      ]
     },
     "execution_count": 84,
     "metadata": {},
     "output_type": "execute_result"
    }
   ],
   "source": [
    "np.delete(a,0)"
   ]
  },
  {
   "cell_type": "code",
   "execution_count": 85,
   "id": "a973670c-c1d3-472a-8225-b9b362ed415f",
   "metadata": {},
   "outputs": [
    {
     "data": {
      "text/plain": [
       "array([10, 82, 10, 75, 16, 39, 22, 99, 64, 54, 75, 68])"
      ]
     },
     "execution_count": 85,
     "metadata": {},
     "output_type": "execute_result"
    }
   ],
   "source": [
    "np.delete(a,[0,2,4])"
   ]
  },
  {
   "cell_type": "markdown",
   "id": "d6ceacd2-e9c2-430c-aa1c-8fa496989c65",
   "metadata": {},
   "source": [
    "# Set Function\n",
    "- np.union1d\n",
    "- np.intersect1d\n",
    "- np.settdiff1d\n",
    "- np.setxor1d\n",
    "- np.in1d"
   ]
  },
  {
   "cell_type": "code",
   "execution_count": 87,
   "id": "3f7e3a06-202c-4505-abd9-de995dad02c9",
   "metadata": {},
   "outputs": [],
   "source": [
    "m = np.array([1,3,5,7,4,3,6,8,8])\n",
    "n = np.array([3,2,5,7,3,8,5,3,6])"
   ]
  },
  {
   "cell_type": "code",
   "execution_count": 88,
   "id": "ea4e0350-c93a-474f-9934-daefd40c4920",
   "metadata": {},
   "outputs": [
    {
     "data": {
      "text/plain": [
       "array([1, 2, 3, 4, 5, 6, 7, 8])"
      ]
     },
     "execution_count": 88,
     "metadata": {},
     "output_type": "execute_result"
    }
   ],
   "source": [
    "np.union1d(m,n)"
   ]
  },
  {
   "cell_type": "code",
   "execution_count": 90,
   "id": "40bf3549-43ac-4050-9efc-0fe588ff17cb",
   "metadata": {},
   "outputs": [
    {
     "data": {
      "text/plain": [
       "array([3, 5, 6, 7, 8])"
      ]
     },
     "execution_count": 90,
     "metadata": {},
     "output_type": "execute_result"
    }
   ],
   "source": [
    "np.intersect1d(m,n)"
   ]
  },
  {
   "cell_type": "code",
   "execution_count": 91,
   "id": "5d9d0780-d52b-490a-bff9-117a62505691",
   "metadata": {},
   "outputs": [
    {
     "data": {
      "text/plain": [
       "array([1, 4])"
      ]
     },
     "execution_count": 91,
     "metadata": {},
     "output_type": "execute_result"
    }
   ],
   "source": [
    "np.setdiff1d(m,n)"
   ]
  },
  {
   "cell_type": "code",
   "execution_count": 92,
   "id": "3302bee1-5687-4ff4-aa6d-7f3fa39acce1",
   "metadata": {},
   "outputs": [
    {
     "data": {
      "text/plain": [
       "array([2])"
      ]
     },
     "execution_count": 92,
     "metadata": {},
     "output_type": "execute_result"
    }
   ],
   "source": [
    "np.setdiff1d(n,m)"
   ]
  },
  {
   "cell_type": "code",
   "execution_count": 93,
   "id": "4102f350-152c-4eb4-8900-74e637a22dbc",
   "metadata": {},
   "outputs": [
    {
     "data": {
      "text/plain": [
       "array([1, 2, 4])"
      ]
     },
     "execution_count": 93,
     "metadata": {},
     "output_type": "execute_result"
    }
   ],
   "source": [
    "np.setxor1d(m,n)"
   ]
  },
  {
   "cell_type": "code",
   "execution_count": 95,
   "id": "53b00913-d26c-45d6-b170-63ccefe29022",
   "metadata": {},
   "outputs": [
    {
     "data": {
      "text/plain": [
       "array([ True, False, False, False, False, False, False, False, False])"
      ]
     },
     "execution_count": 95,
     "metadata": {},
     "output_type": "execute_result"
    }
   ],
   "source": [
    "np.in1d(m,1)"
   ]
  },
  {
   "cell_type": "code",
   "execution_count": 96,
   "id": "90862952-4f78-489d-9c46-1d45148d069a",
   "metadata": {},
   "outputs": [
    {
     "data": {
      "text/plain": [
       "array([1, 3, 5, 7, 4, 3, 6, 8, 8])"
      ]
     },
     "execution_count": 96,
     "metadata": {},
     "output_type": "execute_result"
    }
   ],
   "source": [
    "m"
   ]
  },
  {
   "cell_type": "markdown",
   "id": "faa9c36f-5fbd-4195-b5b6-0a5c85c9db01",
   "metadata": {},
   "source": [
    "# np.clip()"
   ]
  },
  {
   "cell_type": "code",
   "execution_count": 97,
   "id": "ab0e65cf-11ba-453e-9018-ae8b722039e0",
   "metadata": {},
   "outputs": [
    {
     "data": {
      "text/plain": [
       "array([ 1, 10, 99, 82, 51, 10, 75, 16, 39, 22, 99, 64, 54, 75, 68])"
      ]
     },
     "execution_count": 97,
     "metadata": {},
     "output_type": "execute_result"
    }
   ],
   "source": [
    "a"
   ]
  },
  {
   "cell_type": "code",
   "execution_count": 98,
   "id": "fd9fd355-f88a-4cc0-aef3-349cc67087a8",
   "metadata": {},
   "outputs": [
    {
     "data": {
      "text/plain": [
       "array([ 1, 10, 75, 75, 51, 10, 75, 16, 39, 22, 75, 64, 54, 75, 68])"
      ]
     },
     "execution_count": 98,
     "metadata": {},
     "output_type": "execute_result"
    }
   ],
   "source": [
    "np.clip(a,1,75)"
   ]
  },
  {
   "cell_type": "code",
   "execution_count": 99,
   "id": "3ad2fbe0-566a-406b-8339-8651e577d99c",
   "metadata": {},
   "outputs": [
    {
     "data": {
      "text/plain": [
       "array([[0., 0., 1., 0.],\n",
       "       [0., 0., 0., 1.],\n",
       "       [0., 0., 0., 0.],\n",
       "       [0., 0., 0., 0.]])"
      ]
     },
     "execution_count": 99,
     "metadata": {},
     "output_type": "execute_result"
    }
   ],
   "source": [
    "np.eye(4,k=2)"
   ]
  },
  {
   "cell_type": "code",
   "execution_count": null,
   "id": "9e884b26-6018-427b-ad1f-14434607b207",
   "metadata": {},
   "outputs": [],
   "source": []
  }
 ],
 "metadata": {
  "kernelspec": {
   "display_name": "Python 3 (ipykernel)",
   "language": "python",
   "name": "python3"
  },
  "language_info": {
   "codemirror_mode": {
    "name": "ipython",
    "version": 3
   },
   "file_extension": ".py",
   "mimetype": "text/x-python",
   "name": "python",
   "nbconvert_exporter": "python",
   "pygments_lexer": "ipython3",
   "version": "3.11.7"
  }
 },
 "nbformat": 4,
 "nbformat_minor": 5
}
